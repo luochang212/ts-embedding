{
 "cells": [
  {
   "cell_type": "markdown",
   "id": "c3633bd8-6a0c-484c-92f3-1403b69d5e7c",
   "metadata": {
    "execution": {
     "iopub.execute_input": "2024-09-12T09:40:30.921598Z",
     "iopub.status.busy": "2024-09-12T09:40:30.921261Z",
     "iopub.status.idle": "2024-09-12T09:40:30.929068Z",
     "shell.execute_reply": "2024-09-12T09:40:30.927360Z",
     "shell.execute_reply.started": "2024-09-12T09:40:30.921573Z"
    }
   },
   "source": [
    "# Transformer For Variable Length Sequences\n"
   ]
  },
  {
   "cell_type": "code",
   "execution_count": 1,
   "id": "29c5dc32-b89d-4009-992b-62ac5f41b5ce",
   "metadata": {
    "execution": {
     "iopub.execute_input": "2024-09-12T16:25:14.716979Z",
     "iopub.status.busy": "2024-09-12T16:25:14.716979Z",
     "iopub.status.idle": "2024-09-12T16:25:14.721614Z",
     "shell.execute_reply": "2024-09-12T16:25:14.721614Z",
     "shell.execute_reply.started": "2024-09-12T16:25:14.716979Z"
    }
   },
   "outputs": [],
   "source": [
    "# !conda install -c conda-forge pyspark\n",
    "# !pip show pyspark\n",
    "# !java -version"
   ]
  },
  {
   "cell_type": "code",
   "execution_count": 2,
   "id": "144fbe47-4f33-4300-9ce3-bb7284461ae8",
   "metadata": {
    "execution": {
     "iopub.execute_input": "2024-09-12T16:25:14.723144Z",
     "iopub.status.busy": "2024-09-12T16:25:14.721614Z",
     "iopub.status.idle": "2024-09-12T16:25:17.725912Z",
     "shell.execute_reply": "2024-09-12T16:25:17.725912Z",
     "shell.execute_reply.started": "2024-09-12T16:25:14.723144Z"
    }
   },
   "outputs": [],
   "source": [
    "import os\n",
    "import sys\n",
    "import datetime\n",
    "import itertools\n",
    "from pyspark.sql import  SparkSession, Row, functions as F\n",
    "from pyspark.sql.types import ArrayType, StringType, IntegerType, BooleanType\n",
    "\n",
    "import utils\n",
    "from ts2vec import datautils"
   ]
  },
  {
   "cell_type": "code",
   "execution_count": 3,
   "id": "4a153f69-d008-40e9-8ced-b74c46bf21e0",
   "metadata": {
    "execution": {
     "iopub.execute_input": "2024-09-12T16:25:17.727177Z",
     "iopub.status.busy": "2024-09-12T16:25:17.725912Z",
     "iopub.status.idle": "2024-09-12T16:25:17.730133Z",
     "shell.execute_reply": "2024-09-12T16:25:17.730133Z",
     "shell.execute_reply.started": "2024-09-12T16:25:17.727177Z"
    }
   },
   "outputs": [],
   "source": [
    "DATA_PATH = './data'\n",
    "TB_DATASET = 'UserBehaviorSample.csv'"
   ]
  },
  {
   "cell_type": "markdown",
   "id": "d2fa2e43-be18-408d-89ff-0a497b39d465",
   "metadata": {},
   "source": [
    "## 1. 集成到 `utils.py`\n",
    "\n",
    "为了方便复用，将上一节的时间序列 Transformer 模型写成一个类 `TSTransformer`，集成到 `utils.py` 中。"
   ]
  },
  {
   "cell_type": "code",
   "execution_count": 4,
   "id": "d1562a69-d330-4ad1-adf1-9d1c7a0d3187",
   "metadata": {
    "execution": {
     "iopub.execute_input": "2024-09-12T16:25:17.731462Z",
     "iopub.status.busy": "2024-09-12T16:25:17.731462Z",
     "iopub.status.idle": "2024-09-12T16:25:17.735996Z",
     "shell.execute_reply": "2024-09-12T16:25:17.735996Z",
     "shell.execute_reply.started": "2024-09-12T16:25:17.731462Z"
    }
   },
   "outputs": [],
   "source": [
    "# # 分割训练集和验证集\n",
    "# X_train, y_train, X_test, y_test = datautils.load_UCR('ECG200')\n",
    "\n",
    "# tst = utils.TSTransformer(input_dim=None,\n",
    "#                           model_dim=8,\n",
    "#                           nhead=4,\n",
    "#                           num_layers=2,\n",
    "#                           hidden_dim=32,\n",
    "#                           num_classes=2,\n",
    "#                           num_epochs=100,\n",
    "#                           batch_size=25)\n",
    "# predict, metrics = tst(X_train, y_train, X_test, y_test)"
   ]
  },
  {
   "cell_type": "code",
   "execution_count": 5,
   "id": "1cb8d40d-dd6c-453e-950a-865afffa8e2b",
   "metadata": {
    "execution": {
     "iopub.execute_input": "2024-09-12T16:25:17.735996Z",
     "iopub.status.busy": "2024-09-12T16:25:17.735996Z",
     "iopub.status.idle": "2024-09-12T16:25:17.741507Z",
     "shell.execute_reply": "2024-09-12T16:25:17.741507Z",
     "shell.execute_reply.started": "2024-09-12T16:25:17.735996Z"
    }
   },
   "outputs": [],
   "source": [
    "# print(f'Top 5 predict labels: {predict[:5]}')\n",
    "\n",
    "# for k, v in metrics.items():\n",
    "#     print(f'{k}: {v:.4f}')"
   ]
  },
  {
   "cell_type": "markdown",
   "id": "eb79ae1c-ebc2-448f-b3bb-7f5b888fb856",
   "metadata": {},
   "source": [
    "## 2. 不定长序列\n",
    "\n",
    "上一节，我们生成了定长序列的嵌入表示，本节我们来尝试不定长序列。\n",
    "\n",
    "淘宝用户行为数据集是一个不定长的行为序列数据集，链接：[TianChi](https://tianchi.aliyun.com/dataset/649) | [Kaggle](https://www.kaggle.com/datasets/marwa80/userbehavior)\n",
    "\n",
    "从上述链接，将数据文件 `UserBehavior.csv` 下载到 `data` 文件夹中。由于数据文件极大，本文只取前 10000 条数据，用于演示。\n",
    "\n",
    "各字段含义如下：\n",
    "\n",
    "|Field|Explanation|\n",
    "| -- | -- |\n",
    "|User ID|An integer, the serialized ID that represents a user|\n",
    "|Item ID|An integer, the serialized ID that represents an item|\n",
    "|Category ID|An integer, the serialized ID that represents the category which the corresponding item belongs to|\n",
    "|Behavior type|A string, enum-type from ('pv', 'buy', 'cart', 'fav')|\n",
    "|Timestamp|An integer, the timestamp of the behavior|\n",
    "\n",
    "### 2.1 导入数据"
   ]
  },
  {
   "cell_type": "code",
   "execution_count": 6,
   "id": "5659af75-b418-42ec-b4a0-8668e92f514f",
   "metadata": {
    "execution": {
     "iopub.execute_input": "2024-09-12T16:25:17.743659Z",
     "iopub.status.busy": "2024-09-12T16:25:17.743659Z",
     "iopub.status.idle": "2024-09-12T16:25:17.761999Z",
     "shell.execute_reply": "2024-09-12T16:25:17.761999Z",
     "shell.execute_reply.started": "2024-09-12T16:25:17.743659Z"
    }
   },
   "outputs": [
    {
     "data": {
      "text/html": [
       "<div>\n",
       "<style scoped>\n",
       "    .dataframe tbody tr th:only-of-type {\n",
       "        vertical-align: middle;\n",
       "    }\n",
       "\n",
       "    .dataframe tbody tr th {\n",
       "        vertical-align: top;\n",
       "    }\n",
       "\n",
       "    .dataframe thead th {\n",
       "        text-align: right;\n",
       "    }\n",
       "</style>\n",
       "<table border=\"1\" class=\"dataframe\">\n",
       "  <thead>\n",
       "    <tr style=\"text-align: right;\">\n",
       "      <th></th>\n",
       "      <th>User ID</th>\n",
       "      <th>Item ID</th>\n",
       "      <th>Category ID</th>\n",
       "      <th>Behavior type</th>\n",
       "      <th>Timestamp</th>\n",
       "    </tr>\n",
       "  </thead>\n",
       "  <tbody>\n",
       "    <tr>\n",
       "      <th>0</th>\n",
       "      <td>1</td>\n",
       "      <td>2268318</td>\n",
       "      <td>2520377</td>\n",
       "      <td>pv</td>\n",
       "      <td>1511544070</td>\n",
       "    </tr>\n",
       "    <tr>\n",
       "      <th>1</th>\n",
       "      <td>1</td>\n",
       "      <td>2333346</td>\n",
       "      <td>2520771</td>\n",
       "      <td>pv</td>\n",
       "      <td>1511561733</td>\n",
       "    </tr>\n",
       "    <tr>\n",
       "      <th>2</th>\n",
       "      <td>1</td>\n",
       "      <td>2576651</td>\n",
       "      <td>149192</td>\n",
       "      <td>pv</td>\n",
       "      <td>1511572885</td>\n",
       "    </tr>\n",
       "    <tr>\n",
       "      <th>3</th>\n",
       "      <td>1</td>\n",
       "      <td>3830808</td>\n",
       "      <td>4181361</td>\n",
       "      <td>pv</td>\n",
       "      <td>1511593493</td>\n",
       "    </tr>\n",
       "    <tr>\n",
       "      <th>4</th>\n",
       "      <td>1</td>\n",
       "      <td>4365585</td>\n",
       "      <td>2520377</td>\n",
       "      <td>pv</td>\n",
       "      <td>1511596146</td>\n",
       "    </tr>\n",
       "    <tr>\n",
       "      <th>...</th>\n",
       "      <td>...</td>\n",
       "      <td>...</td>\n",
       "      <td>...</td>\n",
       "      <td>...</td>\n",
       "      <td>...</td>\n",
       "    </tr>\n",
       "    <tr>\n",
       "      <th>9996</th>\n",
       "      <td>1000436</td>\n",
       "      <td>1542569</td>\n",
       "      <td>3619575</td>\n",
       "      <td>buy</td>\n",
       "      <td>1512184723</td>\n",
       "    </tr>\n",
       "    <tr>\n",
       "      <th>9997</th>\n",
       "      <td>1000436</td>\n",
       "      <td>2279117</td>\n",
       "      <td>405755</td>\n",
       "      <td>pv</td>\n",
       "      <td>1512184785</td>\n",
       "    </tr>\n",
       "    <tr>\n",
       "      <th>9998</th>\n",
       "      <td>1000436</td>\n",
       "      <td>3249912</td>\n",
       "      <td>2920476</td>\n",
       "      <td>pv</td>\n",
       "      <td>1512184868</td>\n",
       "    </tr>\n",
       "    <tr>\n",
       "      <th>9999</th>\n",
       "      <td>1000436</td>\n",
       "      <td>921462</td>\n",
       "      <td>1888306</td>\n",
       "      <td>fav</td>\n",
       "      <td>1512184965</td>\n",
       "    </tr>\n",
       "    <tr>\n",
       "      <th>10000</th>\n",
       "      <td>1000436</td>\n",
       "      <td>2011894</td>\n",
       "      <td>3729292</td>\n",
       "      <td>cart</td>\n",
       "      <td>1512203775</td>\n",
       "    </tr>\n",
       "  </tbody>\n",
       "</table>\n",
       "<p>10001 rows × 5 columns</p>\n",
       "</div>"
      ],
      "text/plain": [
       "       User ID  Item ID  Category ID Behavior type   Timestamp\n",
       "0            1  2268318      2520377            pv  1511544070\n",
       "1            1  2333346      2520771            pv  1511561733\n",
       "2            1  2576651       149192            pv  1511572885\n",
       "3            1  3830808      4181361            pv  1511593493\n",
       "4            1  4365585      2520377            pv  1511596146\n",
       "...        ...      ...          ...           ...         ...\n",
       "9996   1000436  1542569      3619575           buy  1512184723\n",
       "9997   1000436  2279117       405755            pv  1512184785\n",
       "9998   1000436  3249912      2920476            pv  1512184868\n",
       "9999   1000436   921462      1888306           fav  1512184965\n",
       "10000  1000436  2011894      3729292          cart  1512203775\n",
       "\n",
       "[10001 rows x 5 columns]"
      ]
     },
     "execution_count": 6,
     "metadata": {},
     "output_type": "execute_result"
    }
   ],
   "source": [
    "# 导入数据\n",
    "csv_path = utils.gen_abspath(DATA_PATH, TB_DATASET)\n",
    "df = utils.read_csv(csv_path, header=None)\n",
    "df.columns = ['User ID', 'Item ID', 'Category ID', 'Behavior type', 'Timestamp']\n",
    "\n",
    "df"
   ]
  },
  {
   "cell_type": "markdown",
   "id": "b76a71c6-ff19-4916-a18f-8dbc10da3ae9",
   "metadata": {
    "execution": {
     "iopub.execute_input": "2024-09-12T15:00:21.494852Z",
     "iopub.status.busy": "2024-09-12T15:00:21.492853Z",
     "iopub.status.idle": "2024-09-12T15:00:21.522919Z",
     "shell.execute_reply": "2024-09-12T15:00:21.522919Z",
     "shell.execute_reply.started": "2024-09-12T15:00:21.494852Z"
    }
   },
   "source": [
    "### 2.2 数据预处理\n",
    "\n",
    "- 对文本字段进行编码\n",
    "- 将时间戳转换成时间"
   ]
  },
  {
   "cell_type": "code",
   "execution_count": 7,
   "id": "947e4942-957b-40e0-8eae-010b5bcd163d",
   "metadata": {
    "execution": {
     "iopub.execute_input": "2024-09-12T16:25:17.761999Z",
     "iopub.status.busy": "2024-09-12T16:25:17.761999Z",
     "iopub.status.idle": "2024-09-12T16:25:17.777771Z",
     "shell.execute_reply": "2024-09-12T16:25:17.777771Z",
     "shell.execute_reply.started": "2024-09-12T16:25:17.761999Z"
    }
   },
   "outputs": [
    {
     "data": {
      "text/html": [
       "<div>\n",
       "<style scoped>\n",
       "    .dataframe tbody tr th:only-of-type {\n",
       "        vertical-align: middle;\n",
       "    }\n",
       "\n",
       "    .dataframe tbody tr th {\n",
       "        vertical-align: top;\n",
       "    }\n",
       "\n",
       "    .dataframe thead th {\n",
       "        text-align: right;\n",
       "    }\n",
       "</style>\n",
       "<table border=\"1\" class=\"dataframe\">\n",
       "  <thead>\n",
       "    <tr style=\"text-align: right;\">\n",
       "      <th></th>\n",
       "      <th>User ID</th>\n",
       "      <th>Item ID</th>\n",
       "      <th>Category ID</th>\n",
       "      <th>Behavior type</th>\n",
       "      <th>Timestamp</th>\n",
       "      <th>Time</th>\n",
       "    </tr>\n",
       "  </thead>\n",
       "  <tbody>\n",
       "    <tr>\n",
       "      <th>0</th>\n",
       "      <td>1</td>\n",
       "      <td>2268318</td>\n",
       "      <td>2520377</td>\n",
       "      <td>0</td>\n",
       "      <td>1511544070</td>\n",
       "      <td>2017-11-25 01:21:10</td>\n",
       "    </tr>\n",
       "    <tr>\n",
       "      <th>1</th>\n",
       "      <td>1</td>\n",
       "      <td>2333346</td>\n",
       "      <td>2520771</td>\n",
       "      <td>0</td>\n",
       "      <td>1511561733</td>\n",
       "      <td>2017-11-25 06:15:33</td>\n",
       "    </tr>\n",
       "    <tr>\n",
       "      <th>2</th>\n",
       "      <td>1</td>\n",
       "      <td>2576651</td>\n",
       "      <td>149192</td>\n",
       "      <td>0</td>\n",
       "      <td>1511572885</td>\n",
       "      <td>2017-11-25 09:21:25</td>\n",
       "    </tr>\n",
       "    <tr>\n",
       "      <th>3</th>\n",
       "      <td>1</td>\n",
       "      <td>3830808</td>\n",
       "      <td>4181361</td>\n",
       "      <td>0</td>\n",
       "      <td>1511593493</td>\n",
       "      <td>2017-11-25 15:04:53</td>\n",
       "    </tr>\n",
       "    <tr>\n",
       "      <th>4</th>\n",
       "      <td>1</td>\n",
       "      <td>4365585</td>\n",
       "      <td>2520377</td>\n",
       "      <td>0</td>\n",
       "      <td>1511596146</td>\n",
       "      <td>2017-11-25 15:49:06</td>\n",
       "    </tr>\n",
       "    <tr>\n",
       "      <th>...</th>\n",
       "      <td>...</td>\n",
       "      <td>...</td>\n",
       "      <td>...</td>\n",
       "      <td>...</td>\n",
       "      <td>...</td>\n",
       "      <td>...</td>\n",
       "    </tr>\n",
       "    <tr>\n",
       "      <th>9996</th>\n",
       "      <td>1000436</td>\n",
       "      <td>1542569</td>\n",
       "      <td>3619575</td>\n",
       "      <td>3</td>\n",
       "      <td>1512184723</td>\n",
       "      <td>2017-12-02 11:18:43</td>\n",
       "    </tr>\n",
       "    <tr>\n",
       "      <th>9997</th>\n",
       "      <td>1000436</td>\n",
       "      <td>2279117</td>\n",
       "      <td>405755</td>\n",
       "      <td>0</td>\n",
       "      <td>1512184785</td>\n",
       "      <td>2017-12-02 11:19:45</td>\n",
       "    </tr>\n",
       "    <tr>\n",
       "      <th>9998</th>\n",
       "      <td>1000436</td>\n",
       "      <td>3249912</td>\n",
       "      <td>2920476</td>\n",
       "      <td>0</td>\n",
       "      <td>1512184868</td>\n",
       "      <td>2017-12-02 11:21:08</td>\n",
       "    </tr>\n",
       "    <tr>\n",
       "      <th>9999</th>\n",
       "      <td>1000436</td>\n",
       "      <td>921462</td>\n",
       "      <td>1888306</td>\n",
       "      <td>2</td>\n",
       "      <td>1512184965</td>\n",
       "      <td>2017-12-02 11:22:45</td>\n",
       "    </tr>\n",
       "    <tr>\n",
       "      <th>10000</th>\n",
       "      <td>1000436</td>\n",
       "      <td>2011894</td>\n",
       "      <td>3729292</td>\n",
       "      <td>1</td>\n",
       "      <td>1512203775</td>\n",
       "      <td>2017-12-02 16:36:15</td>\n",
       "    </tr>\n",
       "  </tbody>\n",
       "</table>\n",
       "<p>10001 rows × 6 columns</p>\n",
       "</div>"
      ],
      "text/plain": [
       "       User ID  Item ID  Category ID  Behavior type   Timestamp  \\\n",
       "0            1  2268318      2520377              0  1511544070   \n",
       "1            1  2333346      2520771              0  1511561733   \n",
       "2            1  2576651       149192              0  1511572885   \n",
       "3            1  3830808      4181361              0  1511593493   \n",
       "4            1  4365585      2520377              0  1511596146   \n",
       "...        ...      ...          ...            ...         ...   \n",
       "9996   1000436  1542569      3619575              3  1512184723   \n",
       "9997   1000436  2279117       405755              0  1512184785   \n",
       "9998   1000436  3249912      2920476              0  1512184868   \n",
       "9999   1000436   921462      1888306              2  1512184965   \n",
       "10000  1000436  2011894      3729292              1  1512203775   \n",
       "\n",
       "                     Time  \n",
       "0     2017-11-25 01:21:10  \n",
       "1     2017-11-25 06:15:33  \n",
       "2     2017-11-25 09:21:25  \n",
       "3     2017-11-25 15:04:53  \n",
       "4     2017-11-25 15:49:06  \n",
       "...                   ...  \n",
       "9996  2017-12-02 11:18:43  \n",
       "9997  2017-12-02 11:19:45  \n",
       "9998  2017-12-02 11:21:08  \n",
       "9999  2017-12-02 11:22:45  \n",
       "10000 2017-12-02 16:36:15  \n",
       "\n",
       "[10001 rows x 6 columns]"
      ]
     },
     "execution_count": 7,
     "metadata": {},
     "output_type": "execute_result"
    }
   ],
   "source": [
    "# 将 Behavior type 编码成数字\n",
    "behavior_type = df['Behavior type']\n",
    "cv = utils.Convert(behavior_type)\n",
    "df['Behavior type'] = df['Behavior type'].apply(cv.encoder)\n",
    "\n",
    "# 将时间戳转换成日期\n",
    "df['Time'] = df['Timestamp'].apply(datetime.datetime.fromtimestamp)\n",
    "\n",
    "df"
   ]
  },
  {
   "cell_type": "markdown",
   "id": "3bc474d6-ca05-4b00-aed6-529edf4b0261",
   "metadata": {},
   "source": [
    "### 2.3 生成行为序列数据\n",
    "\n",
    "对数据进行 reshape 操作，将数据做成 `(样本量, 步长, 特征数)` 的形状。\n",
    "\n",
    "> 在本地运行 Spark 可能需要一些配置：\n",
    "> - `spark.conf.set(\"spark.sql.execution.arrow.pyspark.enabled\", \"true\")` enables the use of Apache Arrow for data exchange between PySpark (Python) and JVM (Java Virtual Machine) in Spark."
   ]
  },
  {
   "cell_type": "code",
   "execution_count": 8,
   "id": "c29e88fd-6b1e-4f8b-9cfa-57ec9bc00aee",
   "metadata": {
    "execution": {
     "iopub.execute_input": "2024-09-12T16:25:17.777771Z",
     "iopub.status.busy": "2024-09-12T16:25:17.777771Z",
     "iopub.status.idle": "2024-09-12T16:25:23.686892Z",
     "shell.execute_reply": "2024-09-12T16:25:23.686892Z",
     "shell.execute_reply.started": "2024-09-12T16:25:17.777771Z"
    }
   },
   "outputs": [
    {
     "name": "stdout",
     "output_type": "stream",
     "text": [
      "+-------+-------+-----------+-------------+----------+-------------------+\n",
      "|User ID|Item ID|Category ID|Behavior type|Timestamp |Time               |\n",
      "+-------+-------+-----------+-------------+----------+-------------------+\n",
      "|1      |2268318|2520377    |0            |1511544070|2017-11-25 01:21:10|\n",
      "|1      |2333346|2520771    |0            |1511561733|2017-11-25 06:15:33|\n",
      "|1      |2576651|149192     |0            |1511572885|2017-11-25 09:21:25|\n",
      "|1      |3830808|4181361    |0            |1511593493|2017-11-25 15:04:53|\n",
      "|1      |4365585|2520377    |0            |1511596146|2017-11-25 15:49:06|\n",
      "+-------+-------+-----------+-------------+----------+-------------------+\n",
      "only showing top 5 rows\n",
      "\n"
     ]
    }
   ],
   "source": [
    "python_path = sys.executable\n",
    "\n",
    "os.environ['PYSPARK_PYTHON'] = python_path\n",
    "os.environ['PYSPARK_DRIVER_PYTHON'] = python_path\n",
    "\n",
    "# 创建 SparkSession\n",
    "spark = SparkSession.builder \\\n",
    "    .appName(\"App\") \\\n",
    "    .config(\"spark.pyspark.python\", python_path) \\\n",
    "    .config(\"spark.pyspark.driver.python\", python_path) \\\n",
    "    .config(\"spark.sql.execution.arrow.pyspark.enabled\", \"true\") \\\n",
    "    .config(\"spark.executor.memory\", \"4g\") \\\n",
    "    .config(\"spark.driver.memory\", \"4g\") \\\n",
    "    .config(\"spark.executor.cores\", 2) \\\n",
    "    .master(\"local[*]\") \\\n",
    "    .getOrCreate()\n",
    "\n",
    "# 将 Pandas DataFrame 加载到 Spark\n",
    "spark_df = spark.createDataFrame(df)\n",
    "spark_df.show(5, truncate=False)"
   ]
  },
  {
   "cell_type": "code",
   "execution_count": 9,
   "id": "59c1fd70-c1d4-42e2-b516-2f574ad185c6",
   "metadata": {
    "execution": {
     "iopub.execute_input": "2024-09-12T16:25:23.688585Z",
     "iopub.status.busy": "2024-09-12T16:25:23.686892Z",
     "iopub.status.idle": "2024-09-12T16:25:25.417525Z",
     "shell.execute_reply": "2024-09-12T16:25:25.416855Z",
     "shell.execute_reply.started": "2024-09-12T16:25:23.688585Z"
    }
   },
   "outputs": [
    {
     "name": "stdout",
     "output_type": "stream",
     "text": [
      "+-------+--------------------+\n",
      "|User ID|           item_list|\n",
      "+-------+--------------------+\n",
      "|1000001|1511881921,158285...|\n",
      "|      1|1511910242,409206...|\n",
      "|   1000|1512042775,190767...|\n",
      "|    100|1511684109,383911...|\n",
      "|1000004|1511966192,899145...|\n",
      "+-------+--------------------+\n",
      "only showing top 5 rows\n",
      "\n"
     ]
    }
   ],
   "source": [
    "# 对特征做预聚合 Item ID, Category ID, Behavior type, Timestamp\n",
    "# 染红按 User ID 分组，对 item_rec 去重，并用 `;` 拼接\n",
    "items_df = spark_df.withColumn('features', F.concat_ws('_', F.col('Item ID'), F.col('Category ID'), F.col('Behavior type'), F.col('Timestamp'))) \\\n",
    "    .withColumn('item_rec', F.concat_ws(',', F.col('Timestamp'), F.col('features'))) \\\n",
    "    .groupBy(\"User ID\").agg(F.concat_ws(\";\", F.collect_set(\"item_rec\")) \\\n",
    "    .alias(\"item_list\"))\n",
    "\n",
    "items_df.show(5)"
   ]
  },
  {
   "cell_type": "code",
   "execution_count": 10,
   "id": "39f713cc-cd76-4bcb-aa07-ea8706b78d38",
   "metadata": {
    "execution": {
     "iopub.execute_input": "2024-09-12T16:25:25.417831Z",
     "iopub.status.busy": "2024-09-12T16:25:25.417831Z",
     "iopub.status.idle": "2024-09-12T16:25:25.423271Z",
     "shell.execute_reply": "2024-09-12T16:25:25.423271Z",
     "shell.execute_reply.started": "2024-09-12T16:25:25.417831Z"
    }
   },
   "outputs": [
    {
     "data": {
      "text/plain": [
       "[[1, 0, 3]]"
      ]
     },
     "execution_count": 10,
     "metadata": {},
     "output_type": "execute_result"
    }
   ],
   "source": [
    "def sorted_items(items: str,\n",
    "                 main_delimiter: str = ';',\n",
    "                 minor_delimiter: str = ','):\n",
    "    \"\"\"按时间顺序对用户行为排序\"\"\"\n",
    "    if len(items) == 0:\n",
    "        return []\n",
    "\n",
    "    item_list = []\n",
    "    for kv in items.split(main_delimiter):\n",
    "        kv_list = kv.split(minor_delimiter)\n",
    "        if len(kv_list) == 2:\n",
    "            item_list.append(kv_list)\n",
    "\n",
    "    sorted_list = sorted(item_list, key=lambda e: e[0])\n",
    "    sorted_items = [int(e[1]) for e in sorted_list]\n",
    "    return [[key for key, _ in itertools.groupby(sorted_items)]]\n",
    "\n",
    "sorted_items('2015-03-15,0;2015-05-27,3;2015-03-16,0;2014-03-16,1')"
   ]
  },
  {
   "cell_type": "code",
   "execution_count": 12,
   "id": "989ec6d5-99ea-4b18-aaf2-158b8637489a",
   "metadata": {
    "execution": {
     "iopub.execute_input": "2024-09-12T16:25:30.718072Z",
     "iopub.status.busy": "2024-09-12T16:25:30.717058Z",
     "iopub.status.idle": "2024-09-12T16:25:30.728645Z",
     "shell.execute_reply": "2024-09-12T16:25:30.726640Z",
     "shell.execute_reply.started": "2024-09-12T16:25:30.717058Z"
    }
   },
   "outputs": [],
   "source": [
    "# # 将函数注册为 Spark UDF，返回值类型为 Integer\n",
    "# sort_udf = F.udf(sorted_items, ArrayType(ArrayType(IntegerType())))\n",
    "\n",
    "# # 在 DataFrame 上应用此函数\n",
    "# sorted_items_df = items_df.withColumn(\"item_list\", sort_udf(F.col(\"item_list\"))) \\\n",
    "#     .withColumnRenamed(\"item_list\", \"sequence\")\n",
    "\n",
    "# sorted_items_df.show(10, truncate=False)"
   ]
  },
  {
   "cell_type": "code",
   "execution_count": null,
   "id": "a0bd4a32-4954-4e5e-bf92-1b49ea4f7da0",
   "metadata": {},
   "outputs": [],
   "source": []
  }
 ],
 "metadata": {
  "kernelspec": {
   "display_name": "Python 3 (ipykernel)",
   "language": "python",
   "name": "python3"
  },
  "language_info": {
   "codemirror_mode": {
    "name": "ipython",
    "version": 3
   },
   "file_extension": ".py",
   "mimetype": "text/x-python",
   "name": "python",
   "nbconvert_exporter": "python",
   "pygments_lexer": "ipython3",
   "version": "3.12.3"
  }
 },
 "nbformat": 4,
 "nbformat_minor": 5
}
